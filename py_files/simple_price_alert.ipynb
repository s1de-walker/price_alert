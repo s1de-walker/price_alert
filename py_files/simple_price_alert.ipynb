{
 "cells": [
  {
   "cell_type": "code",
   "execution_count": 34,
   "id": "fa8275e7-d23e-4c51-933c-165c369bac26",
   "metadata": {},
   "outputs": [
    {
     "name": "stdout",
     "output_type": "stream",
     "text": [
      "Overwriting spy_price_alert.py\n"
     ]
    }
   ],
   "source": [
    "%%writefile spy_price_alert.py\n",
    "\n",
    "\n",
    "import time\n",
    "import yfinance as yf\n",
    "from plyer import notification\n",
    "\n",
    "THRESHOLD = 592.51  # Fixed threshold\n",
    "\n",
    "def get_spy_price():\n",
    "    spy = yf.Ticker(\"SPY\")\n",
    "    return spy.history(period=\"1d\", interval=\"1m\").iloc[-1]['Close']\n",
    "\n",
    "def send_notification(price):\n",
    "    notification.notify(\n",
    "        title=\"SPY Price Alert\",\n",
    "        message=f\"SPY has crossed {THRESHOLD}. Current price: ${price:.2f}\",\n",
    "        app_name=\"Python\",\n",
    "        timeout=5\n",
    "    )\n",
    "\n",
    "def monitor_price():\n",
    "    while True:\n",
    "        price = get_spy_price()\n",
    "        print(f\"Current SPY price: {price}\")  # Debugging line\n",
    "        if price >= THRESHOLD:\n",
    "            send_notification(price)\n",
    "        time.sleep(300)\n",
    "\n",
    "if __name__ == \"__main__\":\n",
    "    monitor_price()\n"
   ]
  },
  {
   "cell_type": "code",
   "execution_count": null,
   "id": "051607ec-181b-42cc-8c3d-9e717e18b091",
   "metadata": {},
   "outputs": [],
   "source": []
  },
  {
   "cell_type": "code",
   "execution_count": null,
   "id": "93555df1-38ec-4896-ad06-4b9129e1b010",
   "metadata": {},
   "outputs": [],
   "source": []
  }
 ],
 "metadata": {
  "kernelspec": {
   "display_name": "Python 3 (ipykernel)",
   "language": "python",
   "name": "python3"
  },
  "language_info": {
   "codemirror_mode": {
    "name": "ipython",
    "version": 3
   },
   "file_extension": ".py",
   "mimetype": "text/x-python",
   "name": "python",
   "nbconvert_exporter": "python",
   "pygments_lexer": "ipython3",
   "version": "3.11.7"
  },
  "widgets": {
   "application/vnd.jupyter.widget-state+json": {
    "state": {},
    "version_major": 2,
    "version_minor": 0
   }
  }
 },
 "nbformat": 4,
 "nbformat_minor": 5
}
