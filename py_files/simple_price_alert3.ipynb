{
 "cells": [
  {
   "cell_type": "code",
   "execution_count": 18,
   "id": "fa8275e7-d23e-4c51-933c-165c369bac26",
   "metadata": {},
   "outputs": [
    {
     "name": "stdout",
     "output_type": "stream",
     "text": [
      "Overwriting nse_price_alert.py\n"
     ]
    }
   ],
   "source": [
    "%%writefile nse_price_alert.py\n",
    "\n",
    "import time\n",
    "import yfinance as yf\n",
    "from plyer import notification\n",
    "from datetime import datetime\n",
    "\n",
    "RZ = 250.52  # Resistance Zone\n",
    "SZ = 249.45  # Support Zone\n",
    "\n",
    "last_alert = None  # Track the last alert type\n",
    "\n",
    "def get_niftybees_price():\n",
    "    niftybees = yf.Ticker(\"NIFTYBEES.NS\")\n",
    "    return niftybees.history(period=\"1d\", interval=\"1m\").iloc[-1]['Close']\n",
    "\n",
    "def send_notification(price, alert_type):\n",
    "    current_time = datetime.now().strftime(\"%Y-%m-%d %H:%M:%S\")  # Get current timestamp\n",
    "    message = f\"NIFTYBEES {'crossed above' if alert_type == 'Resistance' else 'fell below'} \" \\\n",
    "              f\"{RZ if alert_type == 'Resistance' else SZ}.\\nCurrent price: ₹{price:.2f}\"\n",
    "\n",
    "    notification.notify(\n",
    "        title=\"NIFTYBEES Price Alert\",\n",
    "        message=message,\n",
    "        app_name=\"Python\",\n",
    "        timeout=5\n",
    "    )\n",
    "\n",
    "def monitor_price():\n",
    "    global last_alert  # Allow modification of last_alert variable\n",
    "\n",
    "    while True:\n",
    "        try:\n",
    "            price = get_niftybees_price()\n",
    "            current_time = datetime.now().strftime(\"%Y-%m-%d %H:%M:%S\")  # Timestamp for debugging\n",
    "            print(f\"{current_time} - Current NIFTYBEES price: {price}\")  # Debugging line\n",
    "            \n",
    "            if price >= RZ and last_alert != \"Resistance\":\n",
    "                send_notification(price, \"Resistance\")\n",
    "                last_alert = \"Resistance\"  # Update last alert type\n",
    "            \n",
    "            elif price <= SZ and last_alert != \"Support\":\n",
    "                send_notification(price, \"Support\")\n",
    "                last_alert = \"Support\"  # Update last alert type\n",
    "\n",
    "            elif SZ < price < RZ:\n",
    "                last_alert = None  # Reset alert when back in range\n",
    "            \n",
    "        except Exception as e:\n",
    "            print(f\"Error fetching price: {e}\")\n",
    "        \n",
    "        time.sleep(120)  # Check every 2 minutes\n",
    "\n",
    "if __name__ == \"__main__\":\n",
    "    monitor_price()\n"
   ]
  },
  {
   "cell_type": "code",
   "execution_count": null,
   "id": "051607ec-181b-42cc-8c3d-9e717e18b091",
   "metadata": {},
   "outputs": [],
   "source": []
  },
  {
   "cell_type": "markdown",
   "id": "4cf7b945-7420-425a-8a18-f00dbc936862",
   "metadata": {},
   "source": [
    "python nse_price_alert.py"
   ]
  },
  {
   "cell_type": "markdown",
   "id": "8a7719fa-935c-493b-931c-2717029d01ee",
   "metadata": {},
   "source": [
    "RZ = 250.3  # Resistance Zone <br/>\n",
    "SZ = 240  # Support Zone"
   ]
  },
  {
   "cell_type": "markdown",
   "id": "20a328c1-e6fd-4aeb-bf53-6b406599c6bc",
   "metadata": {},
   "source": [
    "Example Alert Scenarios:<br/>\n",
    "✅ Price moves from 249 → 251.5 → Alert for Resistance (250.3)<br/>\n",
    "✅ Price stays at 252 → No repeat alert<br/>\n",
    "✅ Price drops from 252 → 238 → Alert for Support (240)<br/>\n",
    "✅ Price stays at 237 → No repeat alert<br/>\n",
    "✅ Price goes back to 245 → Resets alert (ready for next move)<br/>"
   ]
  },
  {
   "cell_type": "code",
   "execution_count": null,
   "id": "3376ff74-8f68-4913-9c4f-f2bf6abd126d",
   "metadata": {},
   "outputs": [],
   "source": []
  }
 ],
 "metadata": {
  "kernelspec": {
   "display_name": "Python 3 (ipykernel)",
   "language": "python",
   "name": "python3"
  },
  "language_info": {
   "codemirror_mode": {
    "name": "ipython",
    "version": 3
   },
   "file_extension": ".py",
   "mimetype": "text/x-python",
   "name": "python",
   "nbconvert_exporter": "python",
   "pygments_lexer": "ipython3",
   "version": "3.11.7"
  },
  "widgets": {
   "application/vnd.jupyter.widget-state+json": {
    "state": {},
    "version_major": 2,
    "version_minor": 0
   }
  }
 },
 "nbformat": 4,
 "nbformat_minor": 5
}
